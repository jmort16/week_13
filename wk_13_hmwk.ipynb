{
 "cells": [
  {
   "cell_type": "markdown",
   "id": "a3721299",
   "metadata": {},
   "source": [
    "1.\tDownload the dataset here: https://www.kaggle.com/sohier/calcofi and create one DataFrame for the bottle file and another for the cast file. Perform preprocessing on this dataset. You do not need to do all six types of preprocessing we discussed. For this dataset, 2-3 is all you need. "
   ]
  },
  {
   "cell_type": "markdown",
   "id": "ecaccc81",
   "metadata": {},
   "source": [
    "2.\tCreate a correlation matrix to see how the features are correlated. Describe your findings. Pay particular attention to what is correlated with water temperature. "
   ]
  },
  {
   "cell_type": "markdown",
   "id": "c833e40a",
   "metadata": {},
   "source": [
    "3.\tPerform linear regression on the dataset to see if you can predict water temperature based on salinity. "
   ]
  },
  {
   "cell_type": "markdown",
   "id": "fb1b88ae",
   "metadata": {},
   "source": [
    "4.\tFind your mean squared error and R2 values. Be sure to indicate what these tell you. You can import these from sklearn.metrics . "
   ]
  },
  {
   "cell_type": "markdown",
   "id": "5bde85f6",
   "metadata": {},
   "source": [
    "5.\tCreate a final plot of the relationship between water temperature and salinity. Be sure to show the values from the dataset in a scatter plot with a trend line that shows the predicted temperature values. "
   ]
  },
  {
   "cell_type": "markdown",
   "id": "b2ffa9ac",
   "metadata": {},
   "source": [
    "6.\tDo some research on polynomial regression. Describe what it is any how it works in markdown. This article is useful https://machinelearningmastery.com/polynomial-features-transforms-for-machine-learning/ "
   ]
  },
  {
   "cell_type": "markdown",
   "id": "9d6bf273",
   "metadata": {},
   "source": [
    "7.\tPerform polynomial regression on this same dataset. Train and validate your model as you did when you used linear regression. Mean squared error and R2 both apply here. "
   ]
  },
  {
   "cell_type": "markdown",
   "id": "499de71e",
   "metadata": {},
   "source": [
    "8.\tCreate a final plot of the relationship between water temperature and salinity. Be sure to show the values from the dataset in a scatter plot with a trend line that shows the polynomial regression predicted temperature values. The resulting trend line should be curved. "
   ]
  }
 ],
 "metadata": {
  "kernelspec": {
   "display_name": "Python 3 (ipykernel)",
   "language": "python",
   "name": "python3"
  },
  "language_info": {
   "codemirror_mode": {
    "name": "ipython",
    "version": 3
   },
   "file_extension": ".py",
   "mimetype": "text/x-python",
   "name": "python",
   "nbconvert_exporter": "python",
   "pygments_lexer": "ipython3",
   "version": "3.9.7"
  }
 },
 "nbformat": 4,
 "nbformat_minor": 5
}
