{
 "cells": [
  {
   "cell_type": "markdown",
   "id": "71fb6a6a",
   "metadata": {},
   "source": [
    "#### 1. In markdown, describe KNN in your own words."
   ]
  },
  {
   "cell_type": "markdown",
   "id": "b62dc708",
   "metadata": {},
   "source": [
    "In my understanding KNN, or K-Nearest Neighbors, is a type of Machine Learning that uses the distance formula to determine an object's nearest neighbors' in a dataset.  Once those neighbors are determined, their traits are examined for the purpose of categorizing the object in question, and the object is classified accordingly."
   ]
  },
  {
   "cell_type": "markdown",
   "id": "c11df139",
   "metadata": {},
   "source": [
    "#### 2. Using the KNN example from class, write a function that finds the optimal value for k. You should iterate over a range of values and return the k and the score when the accuracy score is maximized. Be sure to only use odd values."
   ]
  },
  {
   "cell_type": "code",
   "execution_count": 13,
   "id": "919bb279",
   "metadata": {},
   "outputs": [],
   "source": [
    "# Initial Set_up from class\n",
    "import pandas as pd\n",
    "from sklearn.neighbors import KNeighborsClassifier\n",
    "from sklearn.model_selection import train_test_split\n",
    "from sklearn.preprocessing import StandardScaler\n",
    "\n",
    "diabetes_df = pd.read_csv(\"diabetes.csv\")\n",
    "\n",
    "X = diabetes_df.drop('Outcome',axis=1)\n",
    "y = diabetes_df['Outcome']\n",
    "\n",
    "X_train, X_test, y_train, y_test = train_test_split(X, y, test_size=0.3, random_state=42)\n",
    "\n",
    "#Standardization-transforming values so mean is 0 and SD is 1\n",
    "sc = StandardScaler()\n",
    "X_train = sc.fit_transform(X_train)\n",
    "X_test = sc.fit_transform(X_test)"
   ]
  },
  {
   "cell_type": "code",
   "execution_count": 16,
   "id": "1f231d19",
   "metadata": {},
   "outputs": [],
   "source": [
    "# I did a good bit of research about how to decide the upper cap on the k-values attempted in my for loop.  I ran several \n",
    "# scenarios initially, then noticed that 13, 23, 33, 43, and so on were each the max k-value when I extended the k-value range \n",
    "# cap to 15, 25, 35,and 45 respectively.  I read up online and found that general practice is to limit the possible values of k\n",
    "# so that k is less than or equal to the square root of the number of observations.  Since there are 768 observations in the\n",
    "# diabetes data set, 27.7 is the max k-value to be tested in the for loop.  I rounded that to the next integer (29).\n",
    "\n",
    "\n",
    "def optimize_k(M,col):\n",
    "    ### optimize the k-value for a given set of test data ###\n",
    "    new_knn_score=0\n",
    "    # chose 29 as the cap on my range of k-values based on sqrt(# of observations)\n",
    "    for i in range(3,29,2):\n",
    "        knn=KNeighborsClassifier(n_neighbors=i)\n",
    "        knn.fit(X_train, y_train)\n",
    "        knn_score=knn.score(M,col)\n",
    "        if knn_score > new_knn_score:\n",
    "            new_knn_score=knn_score\n",
    "    print('Optimal k-value:',i,','\\\n",
    "          ' KNN Score:', new_knn_score)\n"
   ]
  },
  {
   "cell_type": "code",
   "execution_count": 17,
   "id": "2d913db3",
   "metadata": {},
   "outputs": [
    {
     "name": "stdout",
     "output_type": "stream",
     "text": [
      "Optimal k-value: 27 , KNN Score: 0.7445887445887446\n"
     ]
    }
   ],
   "source": [
    "optimize_k(X_test,y_test)"
   ]
  },
  {
   "cell_type": "markdown",
   "id": "4f4520fd",
   "metadata": {},
   "source": [
    "#### 3. How did the panel influence your thoughts about working in tech, specifically work in the data realm? Discuss with your group and summarize your thoughts in under 250 words"
   ]
  },
  {
   "cell_type": "markdown",
   "id": "9863db3c",
   "metadata": {},
   "source": [
    "The input of the panel members only served to reinforce my excitement about making a career change to the tech industry.  Our group discussed the benefits of using our past career history as a means for us to stand out among the competition when applying for jobs in the future.  Lilla said that she had done some reading lately about data science in particular, and how the field is quite saturated right now.  We discussed some reasons why that may be happening but our main focus was on how to overcome that situation if it truly exists.  We talked about each of our strengths and how to leverage them in interviews.  Everyone was grateful for the opportunity to meet with the panel tonight.  It gives us a better understanding of what lies ahead for us, and we enjoyed hearing the advice and experiences of people who are already in the tech workforce.  "
   ]
  }
 ],
 "metadata": {
  "kernelspec": {
   "display_name": "Python 3 (ipykernel)",
   "language": "python",
   "name": "python3"
  },
  "language_info": {
   "codemirror_mode": {
    "name": "ipython",
    "version": 3
   },
   "file_extension": ".py",
   "mimetype": "text/x-python",
   "name": "python",
   "nbconvert_exporter": "python",
   "pygments_lexer": "ipython3",
   "version": "3.9.7"
  }
 },
 "nbformat": 4,
 "nbformat_minor": 5
}
